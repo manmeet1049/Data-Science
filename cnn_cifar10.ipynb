{
  "nbformat": 4,
  "nbformat_minor": 0,
  "metadata": {
    "interpreter": {
      "hash": "26765797518c84542f65ca3ad0c59ddd84745504ff99c2dbcf955accc2de11b6"
    },
    "kernelspec": {
      "display_name": "Python 3.9.5 64-bit",
      "name": "python3"
    },
    "language_info": {
      "codemirror_mode": {
        "name": "ipython",
        "version": 3
      },
      "file_extension": ".py",
      "mimetype": "text/x-python",
      "name": "python",
      "nbconvert_exporter": "python",
      "pygments_lexer": "ipython3",
      "version": "3.9.5"
    },
    "orig_nbformat": 4,
    "colab": {
      "name": "cnn.ipynb",
      "provenance": [],
      "collapsed_sections": [],
      "include_colab_link": true
    },
    "accelerator": "GPU"
  },
  "cells": [
    {
      "cell_type": "markdown",
      "metadata": {
        "id": "view-in-github",
        "colab_type": "text"
      },
      "source": [
        "<a href=\"https://colab.research.google.com/github/manmeet1049/Data-Science/blob/main/cnn_cifar10.ipynb\" target=\"_parent\"><img src=\"https://colab.research.google.com/assets/colab-badge.svg\" alt=\"Open In Colab\"/></a>"
      ]
    },
    {
      "cell_type": "code",
      "metadata": {
        "id": "tsOAg6s-z6rn"
      },
      "source": [
        "import tensorflow as tf\n",
        "from tensorflow.keras import datasets,layers,models\n",
        "import numpy as np"
      ],
      "execution_count": 1,
      "outputs": []
    },
    {
      "cell_type": "code",
      "metadata": {
        "id": "0tn8vT1Rz6rs"
      },
      "source": [
        "(X_train,Y_train),(X_test,Y_test)= datasets.cifar10.load_data()"
      ],
      "execution_count": 2,
      "outputs": []
    },
    {
      "cell_type": "code",
      "metadata": {
        "colab": {
          "base_uri": "https://localhost:8080/"
        },
        "id": "V5WUWklPz6ru",
        "outputId": "e0e98480-a533-4b1a-8aa4-4799586f5363"
      },
      "source": [
        "tf.config.list_physical_devices()"
      ],
      "execution_count": 3,
      "outputs": [
        {
          "output_type": "execute_result",
          "data": {
            "text/plain": [
              "[PhysicalDevice(name='/physical_device:CPU:0', device_type='CPU'),\n",
              " PhysicalDevice(name='/physical_device:GPU:0', device_type='GPU')]"
            ]
          },
          "metadata": {},
          "execution_count": 3
        }
      ]
    },
    {
      "cell_type": "code",
      "metadata": {
        "colab": {
          "base_uri": "https://localhost:8080/"
        },
        "id": "LUitoX13z6rv",
        "outputId": "3c843298-5195-48dd-9823-2ab6cb81230e"
      },
      "source": [
        "X_train.shape,X_test.shape"
      ],
      "execution_count": 4,
      "outputs": [
        {
          "output_type": "execute_result",
          "data": {
            "text/plain": [
              "((50000, 32, 32, 3), (10000, 32, 32, 3))"
            ]
          },
          "metadata": {},
          "execution_count": 4
        }
      ]
    },
    {
      "cell_type": "code",
      "metadata": {
        "colab": {
          "base_uri": "https://localhost:8080/"
        },
        "id": "1piW-xmq04ZV",
        "outputId": "31079778-90bb-4c67-95ab-a87c2a8c985f"
      },
      "source": [
        "X_train[0]"
      ],
      "execution_count": 5,
      "outputs": [
        {
          "output_type": "execute_result",
          "data": {
            "text/plain": [
              "array([[[ 59,  62,  63],\n",
              "        [ 43,  46,  45],\n",
              "        [ 50,  48,  43],\n",
              "        ...,\n",
              "        [158, 132, 108],\n",
              "        [152, 125, 102],\n",
              "        [148, 124, 103]],\n",
              "\n",
              "       [[ 16,  20,  20],\n",
              "        [  0,   0,   0],\n",
              "        [ 18,   8,   0],\n",
              "        ...,\n",
              "        [123,  88,  55],\n",
              "        [119,  83,  50],\n",
              "        [122,  87,  57]],\n",
              "\n",
              "       [[ 25,  24,  21],\n",
              "        [ 16,   7,   0],\n",
              "        [ 49,  27,   8],\n",
              "        ...,\n",
              "        [118,  84,  50],\n",
              "        [120,  84,  50],\n",
              "        [109,  73,  42]],\n",
              "\n",
              "       ...,\n",
              "\n",
              "       [[208, 170,  96],\n",
              "        [201, 153,  34],\n",
              "        [198, 161,  26],\n",
              "        ...,\n",
              "        [160, 133,  70],\n",
              "        [ 56,  31,   7],\n",
              "        [ 53,  34,  20]],\n",
              "\n",
              "       [[180, 139,  96],\n",
              "        [173, 123,  42],\n",
              "        [186, 144,  30],\n",
              "        ...,\n",
              "        [184, 148,  94],\n",
              "        [ 97,  62,  34],\n",
              "        [ 83,  53,  34]],\n",
              "\n",
              "       [[177, 144, 116],\n",
              "        [168, 129,  94],\n",
              "        [179, 142,  87],\n",
              "        ...,\n",
              "        [216, 184, 140],\n",
              "        [151, 118,  84],\n",
              "        [123,  92,  72]]], dtype=uint8)"
            ]
          },
          "metadata": {},
          "execution_count": 5
        }
      ]
    },
    {
      "cell_type": "code",
      "metadata": {
        "colab": {
          "base_uri": "https://localhost:8080/",
          "height": 283
        },
        "id": "qmtSy_o51Jgv",
        "outputId": "2f53d5d9-b50a-45f7-89e2-1df79c429b3d"
      },
      "source": [
        "import matplotlib.pyplot as plt\n",
        "plt.imshow(X_train[5])"
      ],
      "execution_count": 6,
      "outputs": [
        {
          "output_type": "execute_result",
          "data": {
            "text/plain": [
              "<matplotlib.image.AxesImage at 0x7f5ed1c6e810>"
            ]
          },
          "metadata": {},
          "execution_count": 6
        },
        {
          "output_type": "display_data",
          "data": {
            "image/png": "[encoded data removed]",
            "text/plain": [
              "<Figure size 432x288 with 1 Axes>"
            ]
          },
          "metadata": {
            "needs_background": "light"
          }
        }
      ]
    },
    {
      "cell_type": "code",
      "metadata": {
        "colab": {
          "base_uri": "https://localhost:8080/"
        },
        "id": "-s99JYeY1UaD",
        "outputId": "6d9bf9ac-a3ee-4d76-df8e-eea122d63a68"
      },
      "source": [
        "Y_train.shape\n"
      ],
      "execution_count": 7,
      "outputs": [
        {
          "output_type": "execute_result",
          "data": {
            "text/plain": [
              "(50000, 1)"
            ]
          },
          "metadata": {},
          "execution_count": 7
        }
      ]
    },
    {
      "cell_type": "code",
      "metadata": {
        "id": "DS8L1IwG16Au"
      },
      "source": [
        "Y_train=Y_train.reshape(-1,)"
      ],
      "execution_count": 8,
      "outputs": []
    },
    {
      "cell_type": "code",
      "metadata": {
        "colab": {
          "base_uri": "https://localhost:8080/"
        },
        "id": "MojNIfiC2CzP",
        "outputId": "41253cd7-f641-425f-9499-4ad97f3aee73"
      },
      "source": [
        "Y_train[:10]"
      ],
      "execution_count": 9,
      "outputs": [
        {
          "output_type": "execute_result",
          "data": {
            "text/plain": [
              "array([6, 9, 9, 4, 1, 1, 2, 7, 8, 3], dtype=uint8)"
            ]
          },
          "metadata": {},
          "execution_count": 9
        }
      ]
    },
    {
      "cell_type": "code",
      "metadata": {
        "id": "F8gY6bOt2JZU"
      },
      "source": [
        "X_train=X_train/255\n",
        "X_test=X_test/255"
      ],
      "execution_count": 10,
      "outputs": []
    },
    {
      "cell_type": "code",
      "metadata": {
        "colab": {
          "base_uri": "https://localhost:8080/"
        },
        "id": "Y7nqsIAW2fk9",
        "outputId": "a9d2639a-d00a-4917-c583-e53654ca8ece"
      },
      "source": [
        "X_train[:5]"
      ],
      "execution_count": 11,
      "outputs": [
        {
          "output_type": "execute_result",
          "data": {
            "text/plain": [
              "array([[[[0.23137255, 0.24313725, 0.24705882],\n",
              "         [0.16862745, 0.18039216, 0.17647059],\n",
              "         [0.19607843, 0.18823529, 0.16862745],\n",
              "         ...,\n",
              "         [0.61960784, 0.51764706, 0.42352941],\n",
              "         [0.59607843, 0.49019608, 0.4       ],\n",
              "         [0.58039216, 0.48627451, 0.40392157]],\n",
              "\n",
              "        [[0.0627451 , 0.07843137, 0.07843137],\n",
              "         [0.        , 0.        , 0.        ],\n",
              "         [0.07058824, 0.03137255, 0.        ],\n",
              "         ...,\n",
              "         [0.48235294, 0.34509804, 0.21568627],\n",
              "         [0.46666667, 0.3254902 , 0.19607843],\n",
              "         [0.47843137, 0.34117647, 0.22352941]],\n",
              "\n",
              "        [[0.09803922, 0.09411765, 0.08235294],\n",
              "         [0.0627451 , 0.02745098, 0.        ],\n",
              "         [0.19215686, 0.10588235, 0.03137255],\n",
              "         ...,\n",
              "         [0.4627451 , 0.32941176, 0.19607843],\n",
              "         [0.47058824, 0.32941176, 0.19607843],\n",
              "         [0.42745098, 0.28627451, 0.16470588]],\n",
              "\n",
              "        ...,\n",
              "\n",
              "        [[0.81568627, 0.66666667, 0.37647059],\n",
              "         [0.78823529, 0.6       , 0.13333333],\n",
              "         [0.77647059, 0.63137255, 0.10196078],\n",
              "         ...,\n",
              "         [0.62745098, 0.52156863, 0.2745098 ],\n",
              "         [0.21960784, 0.12156863, 0.02745098],\n",
              "         [0.20784314, 0.13333333, 0.07843137]],\n",
              "\n",
              "        [[0.70588235, 0.54509804, 0.37647059],\n",
              "         [0.67843137, 0.48235294, 0.16470588],\n",
              "         [0.72941176, 0.56470588, 0.11764706],\n",
              "         ...,\n",
              "         [0.72156863, 0.58039216, 0.36862745],\n",
              "         [0.38039216, 0.24313725, 0.13333333],\n",
              "         [0.3254902 , 0.20784314, 0.13333333]],\n",
              "\n",
              "        [[0.69411765, 0.56470588, 0.45490196],\n",
              "         [0.65882353, 0.50588235, 0.36862745],\n",
              "         [0.70196078, 0.55686275, 0.34117647],\n",
              "         ...,\n",
              "         [0.84705882, 0.72156863, 0.54901961],\n",
              "         [0.59215686, 0.4627451 , 0.32941176],\n",
              "         [0.48235294, 0.36078431, 0.28235294]]],\n",
              "\n",
              "\n",
              "       [[[0.60392157, 0.69411765, 0.73333333],\n",
              "         [0.49411765, 0.5372549 , 0.53333333],\n",
              "         [0.41176471, 0.40784314, 0.37254902],\n",
              "         ...,\n",
              "         [0.35686275, 0.37254902, 0.27843137],\n",
              "         [0.34117647, 0.35294118, 0.27843137],\n",
              "         [0.30980392, 0.31764706, 0.2745098 ]],\n",
              "\n",
              "        [[0.54901961, 0.62745098, 0.6627451 ],\n",
              "         [0.56862745, 0.6       , 0.60392157],\n",
              "         [0.49019608, 0.49019608, 0.4627451 ],\n",
              "         ...,\n",
              "         [0.37647059, 0.38823529, 0.30588235],\n",
              "         [0.30196078, 0.31372549, 0.24313725],\n",
              "         [0.27843137, 0.28627451, 0.23921569]],\n",
              "\n",
              "        [[0.54901961, 0.60784314, 0.64313725],\n",
              "         [0.54509804, 0.57254902, 0.58431373],\n",
              "         [0.45098039, 0.45098039, 0.43921569],\n",
              "         ...,\n",
              "         [0.30980392, 0.32156863, 0.25098039],\n",
              "         [0.26666667, 0.2745098 , 0.21568627],\n",
              "         [0.2627451 , 0.27058824, 0.21568627]],\n",
              "\n",
              "        ...,\n",
              "\n",
              "        [[0.68627451, 0.65490196, 0.65098039],\n",
              "         [0.61176471, 0.60392157, 0.62745098],\n",
              "         [0.60392157, 0.62745098, 0.66666667],\n",
              "         ...,\n",
              "         [0.16470588, 0.13333333, 0.14117647],\n",
              "         [0.23921569, 0.20784314, 0.22352941],\n",
              "         [0.36470588, 0.3254902 , 0.35686275]],\n",
              "\n",
              "        [[0.64705882, 0.60392157, 0.50196078],\n",
              "         [0.61176471, 0.59607843, 0.50980392],\n",
              "         [0.62352941, 0.63137255, 0.55686275],\n",
              "         ...,\n",
              "         [0.40392157, 0.36470588, 0.37647059],\n",
              "         [0.48235294, 0.44705882, 0.47058824],\n",
              "         [0.51372549, 0.4745098 , 0.51372549]],\n",
              "\n",
              "        [[0.63921569, 0.58039216, 0.47058824],\n",
              "         [0.61960784, 0.58039216, 0.47843137],\n",
              "         [0.63921569, 0.61176471, 0.52156863],\n",
              "         ...,\n",
              "         [0.56078431, 0.52156863, 0.54509804],\n",
              "         [0.56078431, 0.5254902 , 0.55686275],\n",
              "         [0.56078431, 0.52156863, 0.56470588]]],\n",
              "\n",
              "\n",
              "       [[[1.        , 1.        , 1.        ],\n",
              "         [0.99215686, 0.99215686, 0.99215686],\n",
              "         [0.99215686, 0.99215686, 0.99215686],\n",
              "         ...,\n",
              "         [0.99215686, 0.99215686, 0.99215686],\n",
              "         [0.99215686, 0.99215686, 0.99215686],\n",
              "         [0.99215686, 0.99215686, 0.99215686]],\n",
              "\n",
              "        [[1.        , 1.        , 1.        ],\n",
              "         [1.        , 1.        , 1.        ],\n",
              "         [1.        , 1.        , 1.        ],\n",
              "         ...,\n",
              "         [1.        , 1.        , 1.        ],\n",
              "         [1.        , 1.        , 1.        ],\n",
              "         [1.        , 1.        , 1.        ]],\n",
              "\n",
              "        [[1.        , 1.        , 1.        ],\n",
              "         [0.99607843, 0.99607843, 0.99607843],\n",
              "         [0.99607843, 0.99607843, 0.99607843],\n",
              "         ...,\n",
              "         [0.99607843, 0.99607843, 0.99607843],\n",
              "         [0.99607843, 0.99607843, 0.99607843],\n",
              "         [0.99607843, 0.99607843, 0.99607843]],\n",
              "\n",
              "        ...,\n",
              "\n",
              "        [[0.44313725, 0.47058824, 0.43921569],\n",
              "         [0.43529412, 0.4627451 , 0.43529412],\n",
              "         [0.41176471, 0.43921569, 0.41568627],\n",
              "         ...,\n",
              "         [0.28235294, 0.31764706, 0.31372549],\n",
              "         [0.28235294, 0.31372549, 0.30980392],\n",
              "         [0.28235294, 0.31372549, 0.30980392]],\n",
              "\n",
              "        [[0.43529412, 0.4627451 , 0.43137255],\n",
              "         [0.40784314, 0.43529412, 0.40784314],\n",
              "         [0.38823529, 0.41568627, 0.38431373],\n",
              "         ...,\n",
              "         [0.26666667, 0.29411765, 0.28627451],\n",
              "         [0.2745098 , 0.29803922, 0.29411765],\n",
              "         [0.30588235, 0.32941176, 0.32156863]],\n",
              "\n",
              "        [[0.41568627, 0.44313725, 0.41176471],\n",
              "         [0.38823529, 0.41568627, 0.38431373],\n",
              "         [0.37254902, 0.4       , 0.36862745],\n",
              "         ...,\n",
              "         [0.30588235, 0.33333333, 0.3254902 ],\n",
              "         [0.30980392, 0.33333333, 0.3254902 ],\n",
              "         [0.31372549, 0.3372549 , 0.32941176]]],\n",
              "\n",
              "\n",
              "       [[[0.10980392, 0.09803922, 0.03921569],\n",
              "         [0.14509804, 0.13333333, 0.0745098 ],\n",
              "         [0.14901961, 0.1372549 , 0.07843137],\n",
              "         ...,\n",
              "         [0.29803922, 0.2627451 , 0.15294118],\n",
              "         [0.31764706, 0.28235294, 0.16862745],\n",
              "         [0.33333333, 0.29803922, 0.18431373]],\n",
              "\n",
              "        [[0.12941176, 0.10980392, 0.05098039],\n",
              "         [0.13333333, 0.11764706, 0.05490196],\n",
              "         [0.1254902 , 0.10588235, 0.04705882],\n",
              "         ...,\n",
              "         [0.37254902, 0.32156863, 0.21568627],\n",
              "         [0.37647059, 0.32156863, 0.21960784],\n",
              "         [0.33333333, 0.28235294, 0.17647059]],\n",
              "\n",
              "        [[0.15294118, 0.1254902 , 0.05882353],\n",
              "         [0.15686275, 0.12941176, 0.06666667],\n",
              "         [0.22352941, 0.19607843, 0.12941176],\n",
              "         ...,\n",
              "         [0.36470588, 0.29803922, 0.20392157],\n",
              "         [0.41960784, 0.34901961, 0.25882353],\n",
              "         [0.37254902, 0.30196078, 0.21176471]],\n",
              "\n",
              "        ...,\n",
              "\n",
              "        [[0.3254902 , 0.28627451, 0.20392157],\n",
              "         [0.34117647, 0.30196078, 0.21960784],\n",
              "         [0.32941176, 0.29019608, 0.20392157],\n",
              "         ...,\n",
              "         [0.38823529, 0.36470588, 0.2745098 ],\n",
              "         [0.35294118, 0.32941176, 0.23921569],\n",
              "         [0.31764706, 0.29411765, 0.20392157]],\n",
              "\n",
              "        [[0.34509804, 0.28235294, 0.2       ],\n",
              "         [0.35294118, 0.29019608, 0.20392157],\n",
              "         [0.36470588, 0.30196078, 0.21960784],\n",
              "         ...,\n",
              "         [0.31372549, 0.29019608, 0.20784314],\n",
              "         [0.29803922, 0.2745098 , 0.19215686],\n",
              "         [0.32156863, 0.29803922, 0.21568627]],\n",
              "\n",
              "        [[0.38039216, 0.30588235, 0.21960784],\n",
              "         [0.36862745, 0.29411765, 0.20784314],\n",
              "         [0.36470588, 0.29411765, 0.20784314],\n",
              "         ...,\n",
              "         [0.21176471, 0.18431373, 0.10980392],\n",
              "         [0.24705882, 0.21960784, 0.14509804],\n",
              "         [0.28235294, 0.25490196, 0.18039216]]],\n",
              "\n",
              "\n",
              "       [[[0.66666667, 0.70588235, 0.77647059],\n",
              "         [0.65882353, 0.69803922, 0.76862745],\n",
              "         [0.69411765, 0.7254902 , 0.79607843],\n",
              "         ...,\n",
              "         [0.63529412, 0.70196078, 0.84313725],\n",
              "         [0.61960784, 0.69803922, 0.83921569],\n",
              "         [0.61568627, 0.69411765, 0.83137255]],\n",
              "\n",
              "        [[0.65882353, 0.70980392, 0.77647059],\n",
              "         [0.6745098 , 0.7254902 , 0.78823529],\n",
              "         [0.67058824, 0.71764706, 0.78431373],\n",
              "         ...,\n",
              "         [0.62352941, 0.69411765, 0.83137255],\n",
              "         [0.61176471, 0.69019608, 0.82745098],\n",
              "         [0.60392157, 0.68235294, 0.81960784]],\n",
              "\n",
              "        [[0.60392157, 0.66666667, 0.72941176],\n",
              "         [0.58431373, 0.64705882, 0.70980392],\n",
              "         [0.50588235, 0.56470588, 0.63529412],\n",
              "         ...,\n",
              "         [0.63137255, 0.69803922, 0.83921569],\n",
              "         [0.61568627, 0.69411765, 0.83137255],\n",
              "         [0.60392157, 0.68235294, 0.81960784]],\n",
              "\n",
              "        ...,\n",
              "\n",
              "        [[0.29019608, 0.32941176, 0.31372549],\n",
              "         [0.29803922, 0.33333333, 0.31764706],\n",
              "         [0.30588235, 0.33333333, 0.32156863],\n",
              "         ...,\n",
              "         [0.27843137, 0.29411765, 0.30588235],\n",
              "         [0.26666667, 0.28235294, 0.29411765],\n",
              "         [0.23921569, 0.25490196, 0.26666667]],\n",
              "\n",
              "        [[0.26666667, 0.29803922, 0.30196078],\n",
              "         [0.27058824, 0.30196078, 0.30588235],\n",
              "         [0.28235294, 0.30980392, 0.30588235],\n",
              "         ...,\n",
              "         [0.29803922, 0.31372549, 0.3254902 ],\n",
              "         [0.27843137, 0.29411765, 0.30588235],\n",
              "         [0.27843137, 0.29411765, 0.30588235]],\n",
              "\n",
              "        [[0.2627451 , 0.29411765, 0.30588235],\n",
              "         [0.26666667, 0.29803922, 0.30980392],\n",
              "         [0.27058824, 0.29411765, 0.29803922],\n",
              "         ...,\n",
              "         [0.29411765, 0.30980392, 0.32156863],\n",
              "         [0.27843137, 0.29411765, 0.30588235],\n",
              "         [0.28627451, 0.30196078, 0.31372549]]]])"
            ]
          },
          "metadata": {},
          "execution_count": 11
        }
      ]
    },
    {
      "cell_type": "code",
      "metadata": {
        "id": "_lDK-0lb2hn-"
      },
      "source": [
        "cnn=models.Sequential([\n",
        "                       #cnn layers:\n",
        "                       layers.Conv2D(filters=32,kernel_size=(3,3),activation='relu',input_shape=(32,32,3)),\n",
        "                       layers.MaxPooling2D((2,2)),\n",
        "                       layers.Conv2D(filters=64,activation='relu',kernel_size=(3,3)),\n",
        "                       layers.MaxPooling2D((2,2)),\n",
        "\n",
        "                       #dense layers:\n",
        "                       layers.Flatten(),\n",
        "                       layers.Dense(64,activation='relu'),\n",
        "                       layers.Dense(10,activation='softmax')\n",
        "\n",
        "])\n"
      ],
      "execution_count": 12,
      "outputs": []
    },
    {
      "cell_type": "code",
      "metadata": {
        "id": "XlBBqD1f9AY7"
      },
      "source": [
        "cnn = models.Sequential([\n",
        "    layers.Conv2D(filters=32, kernel_size=(3,3), activation='relu', input_shape=(32, 32, 3)),\n",
        "    layers.MaxPooling2D((2, 2)),\n",
        "    \n",
        "    layers.Conv2D(filters=64, kernel_size=(3, 3), activation='relu'),\n",
        "    layers.MaxPooling2D((2, 2)),\n",
        "    \n",
        "    layers.Flatten(),\n",
        "    layers.Dense(64, activation='relu'),\n",
        "    layers.Dense(10, activation='softmax')\n",
        "])"
      ],
      "execution_count": 13,
      "outputs": []
    },
    {
      "cell_type": "code",
      "metadata": {
        "id": "dNaWeZ2i5CWW"
      },
      "source": [
        "cnn.compile(\n",
        "    optimizer='adam',\n",
        "    loss='sparse_categorical_crossentropy',\n",
        "    metrics=['accuracy']\n",
        ")"
      ],
      "execution_count": 14,
      "outputs": []
    },
    {
      "cell_type": "code",
      "metadata": {
        "colab": {
          "base_uri": "https://localhost:8080/"
        },
        "id": "x4P1boTJ5Xx5",
        "outputId": "c9f8232b-bd3d-45dc-8fe0-69f56256731e"
      },
      "source": [
        "# with tf.device('/gpu:0'):\n",
        "cnn.fit(X_train,Y_train,epochs=10)"
      ],
      "execution_count": 15,
      "outputs": [
        {
          "output_type": "stream",
          "name": "stdout",
          "text": [
            "Epoch 1/10\n",
            "1563/1563 [==============================] - 19s 6ms/step - loss: 1.4558 - accuracy: 0.4782\n",
            "Epoch 2/10\n",
            "1563/1563 [==============================] - 9s 6ms/step - loss: 1.1003 - accuracy: 0.6121\n",
            "Epoch 3/10\n",
            "1563/1563 [==============================] - 9s 6ms/step - loss: 0.9714 - accuracy: 0.6647\n",
            "Epoch 4/10\n",
            "1563/1563 [==============================] - 9s 6ms/step - loss: 0.8825 - accuracy: 0.6940\n",
            "Epoch 5/10\n",
            "1563/1563 [==============================] - 9s 6ms/step - loss: 0.8196 - accuracy: 0.7162\n",
            "Epoch 6/10\n",
            "1563/1563 [==============================] - 9s 6ms/step - loss: 0.7633 - accuracy: 0.7331\n",
            "Epoch 7/10\n",
            "1563/1563 [==============================] - 9s 6ms/step - loss: 0.7069 - accuracy: 0.7547\n",
            "Epoch 8/10\n",
            "1563/1563 [==============================] - 9s 6ms/step - loss: 0.6624 - accuracy: 0.7696\n",
            "Epoch 9/10\n",
            "1563/1563 [==============================] - 9s 6ms/step - loss: 0.6203 - accuracy: 0.7844\n",
            "Epoch 10/10\n",
            "1563/1563 [==============================] - 9s 6ms/step - loss: 0.5815 - accuracy: 0.7974\n"
          ]
        },
        {
          "output_type": "execute_result",
          "data": {
            "text/plain": [
              "<keras.callbacks.History at 0x7f5ed05ff350>"
            ]
          },
          "metadata": {},
          "execution_count": 15
        }
      ]
    },
    {
      "cell_type": "code",
      "metadata": {
        "colab": {
          "base_uri": "https://localhost:8080/"
        },
        "id": "aefsIRV26Eo8",
        "outputId": "55de1434-dba5-440a-9a9f-f5b9158b017c"
      },
      "source": [
        "cnn.evaluate(X_test,Y_test)"
      ],
      "execution_count": 16,
      "outputs": [
        {
          "output_type": "stream",
          "name": "stdout",
          "text": [
            "313/313 [==============================] - 1s 4ms/step - loss: 0.9715 - accuracy: 0.6967\n"
          ]
        },
        {
          "output_type": "execute_result",
          "data": {
            "text/plain": [
              "[0.9714926481246948, 0.6966999769210815]"
            ]
          },
          "metadata": {},
          "execution_count": 16
        }
      ]
    },
    {
      "cell_type": "code",
      "metadata": {
        "id": "O9NF5C1j-A3L"
      },
      "source": [
        ""
      ],
      "execution_count": null,
      "outputs": []
    }
  ]
}